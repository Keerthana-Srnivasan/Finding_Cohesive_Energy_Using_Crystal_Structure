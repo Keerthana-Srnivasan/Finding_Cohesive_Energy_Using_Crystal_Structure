{
 "cells": [
  {
   "cell_type": "markdown",
   "metadata": {},
   "source": [
    "### 1. Import Dependencies"
   ]
  },
  {
   "cell_type": "code",
   "execution_count": 3,
   "metadata": {},
   "outputs": [],
   "source": [
    "import pandas as pd\n",
    "import matplotlib.pyplot as plt"
   ]
  },
  {
   "cell_type": "markdown",
   "metadata": {},
   "source": [
    "### 2. Open Data Frame"
   ]
  },
  {
   "cell_type": "code",
   "execution_count": 5,
   "metadata": {},
   "outputs": [
    {
     "data": {
      "text/html": [
       "<div>\n",
       "<style scoped>\n",
       "    .dataframe tbody tr th:only-of-type {\n",
       "        vertical-align: middle;\n",
       "    }\n",
       "\n",
       "    .dataframe tbody tr th {\n",
       "        vertical-align: top;\n",
       "    }\n",
       "\n",
       "    .dataframe thead th {\n",
       "        text-align: right;\n",
       "    }\n",
       "</style>\n",
       "<table border=\"1\" class=\"dataframe\">\n",
       "  <thead>\n",
       "    <tr style=\"text-align: right;\">\n",
       "      <th></th>\n",
       "      <th>points</th>\n",
       "      <th>angles</th>\n",
       "      <th>c_energy</th>\n",
       "    </tr>\n",
       "  </thead>\n",
       "  <tbody>\n",
       "    <tr>\n",
       "      <th>0</th>\n",
       "      <td>-0.391105</td>\n",
       "      <td>-0.181732</td>\n",
       "      <td>4.483057</td>\n",
       "    </tr>\n",
       "    <tr>\n",
       "      <th>1</th>\n",
       "      <td>-0.149769</td>\n",
       "      <td>0.322704</td>\n",
       "      <td>4.483057</td>\n",
       "    </tr>\n",
       "    <tr>\n",
       "      <th>2</th>\n",
       "      <td>-1.960293</td>\n",
       "      <td>0.013699</td>\n",
       "      <td>4.483057</td>\n",
       "    </tr>\n",
       "    <tr>\n",
       "      <th>3</th>\n",
       "      <td>0.264811</td>\n",
       "      <td>0.556453</td>\n",
       "      <td>4.546351</td>\n",
       "    </tr>\n",
       "    <tr>\n",
       "      <th>4</th>\n",
       "      <td>-1.441012</td>\n",
       "      <td>-0.697856</td>\n",
       "      <td>4.546351</td>\n",
       "    </tr>\n",
       "  </tbody>\n",
       "</table>\n",
       "</div>"
      ],
      "text/plain": [
       "     points    angles  c_energy\n",
       "0 -0.391105 -0.181732  4.483057\n",
       "1 -0.149769  0.322704  4.483057\n",
       "2 -1.960293  0.013699  4.483057\n",
       "3  0.264811  0.556453  4.546351\n",
       "4 -1.441012 -0.697856  4.546351"
      ]
     },
     "execution_count": 5,
     "metadata": {},
     "output_type": "execute_result"
    }
   ],
   "source": [
    "data = pd.read_csv(\"C:\\\\Users\\\\Keerthana\\\\material-informatics p1\\\\linear-regression\\\\structure-c_energy.csv\")\n",
    "data.head()"
   ]
  },
  {
   "cell_type": "markdown",
   "metadata": {},
   "source": [
    "### 3. Define Loss Function and Gradient Descent"
   ]
  },
  {
   "cell_type": "code",
   "execution_count": 12,
   "metadata": {},
   "outputs": [],
   "source": [
    "#Loss function\n",
    "def loss_function(m, b, points):\n",
    "    total_error = 0\n",
    "    for i in range(len(points)):\n",
    "        x=points.iloc[i].structures\n",
    "        y=points.iloc[i].c_energy\n",
    "        total_error+=(y - (m * x + b))**2\n",
    "    total_error/float(len(points))\n",
    "    \n",
    "#Gradient descent function\n",
    "def gradient_descent(m_now, b_now, points, L):\n",
    "    m_gradient=0\n",
    "    b_gradient=0\n",
    "    n=len(points)\n",
    "    \n",
    "    for i in range(n):\n",
    "        x=points.iloc[i].points\n",
    "        y=points.iloc[i].c_energy\n",
    "        \n",
    "        m_gradient+= -(2/n)*x*(y-(m_now*x+b_now))\n",
    "        b_gradient+= -(2/n)*(y-(m_now*x+b_now))\n",
    "        \n",
    "    m = m_now - m_gradient * L\n",
    "    b = b_now - b_gradient * L\n",
    "    \n",
    "    return m, b"
   ]
  },
  {
   "cell_type": "markdown",
   "metadata": {},
   "source": [
    "### 4. Plot Line of Best Fit"
   ]
  },
  {
   "cell_type": "code",
   "execution_count": 22,
   "metadata": {},
   "outputs": [
    {
     "name": "stdout",
     "output_type": "stream",
     "text": [
      "Epoch:0\n",
      "Epoch:1000\n",
      "Epoch:2000\n",
      "Epoch:3000\n",
      "Epoch:4000\n",
      "0.11357513053286943 6.219510381413686\n"
     ]
    },
    {
     "data": {
      "text/plain": [
       "[<matplotlib.lines.Line2D at 0x1a2b1e90910>]"
      ]
     },
     "execution_count": 22,
     "metadata": {},
     "output_type": "execute_result"
    },
    {
     "data": {
      "image/png": "[encoded data removed]",
      "text/plain": [
       "<Figure size 640x480 with 1 Axes>"
      ]
     },
     "metadata": {},
     "output_type": "display_data"
    }
   ],
   "source": [
    "m = 0\n",
    "b = 0\n",
    "L = 0.1\n",
    "epochs = 5000\n",
    "\n",
    "#Train model\n",
    "for i in range(epochs):\n",
    "    if i % 1000 == 0:\n",
    "        print(f\"Epoch:{i}\")\n",
    "        \n",
    "    m, b = gradient_descent(m, b, data , L)\n",
    "    \n",
    "#Plot line of best fit\n",
    "print(m,b)\n",
    "plt.scatter(data.points, data.c_energy, color='black')\n",
    "plt.plot(list(range(-2, 10)), [m*x+b for x in range(-2, 10)], color='red')"
   ]
  }
 ],
 "metadata": {
  "kernelspec": {
   "display_name": "Python 3",
   "language": "python",
   "name": "python3"
  },
  "language_info": {
   "codemirror_mode": {
    "name": "ipython",
    "version": 3
   },
   "file_extension": ".py",
   "mimetype": "text/x-python",
   "name": "python",
   "nbconvert_exporter": "python",
   "pygments_lexer": "ipython3",
   "version": "3.11.4"
  },
  "orig_nbformat": 4
 },
 "nbformat": 4,
 "nbformat_minor": 2
}
